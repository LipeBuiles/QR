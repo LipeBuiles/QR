{
  "nbformat": 4,
  "nbformat_minor": 0,
  "metadata": {
    "colab": {
      "name": "Untitled3.ipynb",
      "provenance": [],
      "authorship_tag": "ABX9TyOz9NEJ6aejXsdGCOyDXo8p",
      "include_colab_link": true
    },
    "kernelspec": {
      "name": "python3",
      "display_name": "Python 3"
    }
  },
  "cells": [
    {
      "cell_type": "markdown",
      "metadata": {
        "id": "view-in-github",
        "colab_type": "text"
      },
      "source": [
        "<a href=\"https://colab.research.google.com/github/elpinchepastel/QR/blob/main/QR.ipynb\" target=\"_parent\"><img src=\"https://colab.research.google.com/assets/colab-badge.svg\" alt=\"Open In Colab\"/></a>"
      ]
    },
    {
      "cell_type": "code",
      "metadata": {
        "colab": {
          "base_uri": "https://localhost:8080/"
        },
        "id": "9kMzz-UWaE8P",
        "outputId": "bd57bdc2-4874-463c-ca86-9f1f995c390d"
      },
      "source": [
        "!pip install pyqrcode\r\n",
        "!pip install pypng\r\n",
        "import png\r\n",
        "import pyqrcode \r\n",
        "from pyqrcode import QRCode "
      ],
      "execution_count": 1,
      "outputs": [
        {
          "output_type": "stream",
          "text": [
            "Requirement already satisfied: pyqrcode in /usr/local/lib/python3.7/dist-packages (1.2.1)\n",
            "Requirement already satisfied: pypng in /usr/local/lib/python3.7/dist-packages (0.0.20)\n"
          ],
          "name": "stdout"
        }
      ]
    },
    {
      "cell_type": "code",
      "metadata": {
        "id": "NbuewFFoaHHS"
      },
      "source": [
        "# String which represent the QR code \r\n",
        "s = \"https://www.twitch.tv/skarmori369\""
      ],
      "execution_count": 2,
      "outputs": []
    },
    {
      "cell_type": "code",
      "metadata": {
        "id": "TisSpIqWaW72"
      },
      "source": [
        "# Generate QR code \r\n",
        "url = pyqrcode.create(s)"
      ],
      "execution_count": 3,
      "outputs": []
    },
    {
      "cell_type": "code",
      "metadata": {
        "id": "_Wf4X_OUb2qR"
      },
      "source": [
        "# Create and save the png file naming \".png\" \r\n",
        "url.png(\"QR.png\", scale = 10) "
      ],
      "execution_count": 7,
      "outputs": []
    },
    {
      "cell_type": "code",
      "metadata": {
        "colab": {
          "base_uri": "https://localhost:8080/",
          "height": 427
        },
        "id": "eWJjUl8jkRRm",
        "outputId": "36c2fb43-4f8a-4d50-dd64-7b31f0b48bcc"
      },
      "source": [
        "from IPython.display import Image\r\n",
        "Image(\"/content/QR.png\")"
      ],
      "execution_count": 8,
      "outputs": [
        {
          "output_type": "execute_result",
          "data": {
            "image/png": "[encoded data removed]",
            "text/plain": [
              "<IPython.core.display.Image object>"
            ]
          },
          "metadata": {
            "tags": []
          },
          "execution_count": 8
        }
      ]
    }
  ]
}