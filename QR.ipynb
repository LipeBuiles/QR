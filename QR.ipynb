{
  "nbformat": 4,
  "nbformat_minor": 0,
  "metadata": {
    "colab": {
      "name": "Untitled3.ipynb",
      "provenance": [],
      "authorship_tag": "ABX9TyOc+d6aL4toM+8Pt6GZH/lb",
      "include_colab_link": true
    },
    "kernelspec": {
      "name": "python3",
      "display_name": "Python 3"
    }
  },
  "cells": [
    {
      "cell_type": "markdown",
      "metadata": {
        "id": "view-in-github",
        "colab_type": "text"
      },
      "source": [
        "<a href=\"https://colab.research.google.com/github/elpinchepastel/QR/blob/main/QR.ipynb\" target=\"_parent\"><img src=\"https://colab.research.google.com/assets/colab-badge.svg\" alt=\"Open In Colab\"/></a>"
      ]
    },
    {
      "cell_type": "code",
      "metadata": {
        "colab": {
          "base_uri": "https://localhost:8080/"
        },
        "id": "9kMzz-UWaE8P",
        "outputId": "fb886880-ab7f-4c4c-8365-38cc70f5facf"
      },
      "source": [
        "!pip install pyqrcode\r\n",
        "import pyqrcode \r\n",
        "from pyqrcode import QRCode "
      ],
      "execution_count": 1,
      "outputs": [
        {
          "output_type": "stream",
          "text": [
            "Requirement already satisfied: pyqrcode in /usr/local/lib/python3.7/dist-packages (1.2.1)\n"
          ],
          "name": "stdout"
        }
      ]
    },
    {
      "cell_type": "code",
      "metadata": {
        "id": "NbuewFFoaHHS"
      },
      "source": [
        "# String which represent the QR code \r\n",
        "s = \"https://www.twitch.tv/skarmori369\""
      ],
      "execution_count": 2,
      "outputs": []
    },
    {
      "cell_type": "code",
      "metadata": {
        "id": "TisSpIqWaW72"
      },
      "source": [
        "# Generate QR code \r\n",
        "url = pyqrcode.create(s)"
      ],
      "execution_count": 3,
      "outputs": []
    },
    {
      "cell_type": "code",
      "metadata": {
        "id": "_Wf4X_OUb2qR"
      },
      "source": [
        "# Create and save the png file naming \"myqr.png\" \r\n",
        "url.svg(\"QR.svg\", scale = 10) "
      ],
      "execution_count": 4,
      "outputs": []
    }
  ]
}